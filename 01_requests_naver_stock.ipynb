{
 "cells": [
  {
   "cell_type": "markdown",
   "id": "2cba2568",
   "metadata": {},
   "source": [
    "### 웹크롤링 방법\n",
    "- 동적페이지 : URL의 변경 없이 페이지의 내용이 변경 : json\n",
    "- 정적페이지 : URL이 변경되면서 페이지의 내용이 변경 : html"
   ]
  },
  {
   "cell_type": "code",
   "execution_count": null,
   "id": "1c566e5b",
   "metadata": {},
   "outputs": [],
   "source": []
  },
  {
   "cell_type": "code",
   "execution_count": 140,
   "id": "d87290d8",
   "metadata": {},
   "outputs": [],
   "source": [
    "import pandas as pd\n",
    "import requests"
   ]
  },
  {
   "cell_type": "markdown",
   "id": "4f282726",
   "metadata": {},
   "source": [
    "### 네이버 주가 데이터 수집\n",
    "- 동적페이지 : JSON"
   ]
  },
  {
   "cell_type": "code",
   "execution_count": 141,
   "id": "e3b62422",
   "metadata": {},
   "outputs": [],
   "source": [
    "# 1. 웹서비스 분석 : 개발자 도구 : URL"
   ]
  },
  {
   "cell_type": "code",
   "execution_count": 142,
   "id": "0c8ae3fe",
   "metadata": {},
   "outputs": [
    {
     "data": {
      "text/plain": [
       "'https://m.stock.naver.com/api/index/KOSPI/price?pageSize=20&page=1'"
      ]
     },
     "execution_count": 142,
     "metadata": {},
     "output_type": "execute_result"
    }
   ],
   "source": [
    "page_size, page=20,1\n",
    "url = f'https://m.stock.naver.com/api/index/KOSPI/price?pageSize={page_size}&page={page}'\n",
    "url"
   ]
  },
  {
   "cell_type": "code",
   "execution_count": 143,
   "id": "dda8b33a",
   "metadata": {},
   "outputs": [],
   "source": [
    "# 2. 서버에 데이터 요청 : request(URL) > response(JSON(str))"
   ]
  },
  {
   "cell_type": "code",
   "execution_count": 144,
   "id": "d609b987",
   "metadata": {},
   "outputs": [
    {
     "data": {
      "text/plain": [
       "<Response [200]>"
      ]
     },
     "execution_count": 144,
     "metadata": {},
     "output_type": "execute_result"
    }
   ],
   "source": [
    "response = requests.get(url)\n",
    "response"
   ]
  },
  {
   "cell_type": "code",
   "execution_count": 74,
   "id": "2b74b6f8",
   "metadata": {},
   "outputs": [
    {
     "data": {
      "text/plain": [
       "'[{\"localTradedAt\":\"2022-02-21\",\"closePrice\":\"2,730.63\",\"compareToPreviousClosePrice\":\"-13.89\",\"compareToPreviousPrice\":{\"code\":\"5\",\"text\":\"하락\",\"name\":\"FALLING\"},\"fluctuationsRatio\":\"-0.51\",\"openPrice\"'"
      ]
     },
     "execution_count": 74,
     "metadata": {},
     "output_type": "execute_result"
    }
   ],
   "source": [
    "response.text[:200]"
   ]
  },
  {
   "cell_type": "code",
   "execution_count": 75,
   "id": "af51637b",
   "metadata": {},
   "outputs": [],
   "source": [
    "# 3. JSON(str) > parsion > dict,list  > DataFrame "
   ]
  },
  {
   "cell_type": "code",
   "execution_count": 76,
   "id": "65acb2b1",
   "metadata": {},
   "outputs": [
    {
     "data": {
      "text/plain": [
       "list"
      ]
     },
     "execution_count": 76,
     "metadata": {},
     "output_type": "execute_result"
    }
   ],
   "source": [
    "datas = response.json()\n",
    "type(datas)"
   ]
  },
  {
   "cell_type": "code",
   "execution_count": 77,
   "id": "7b1dcac8",
   "metadata": {},
   "outputs": [
    {
     "data": {
      "text/html": [
       "<div>\n",
       "<style scoped>\n",
       "    .dataframe tbody tr th:only-of-type {\n",
       "        vertical-align: middle;\n",
       "    }\n",
       "\n",
       "    .dataframe tbody tr th {\n",
       "        vertical-align: top;\n",
       "    }\n",
       "\n",
       "    .dataframe thead th {\n",
       "        text-align: right;\n",
       "    }\n",
       "</style>\n",
       "<table border=\"1\" class=\"dataframe\">\n",
       "  <thead>\n",
       "    <tr style=\"text-align: right;\">\n",
       "      <th></th>\n",
       "      <th>localTradedAt</th>\n",
       "      <th>closePrice</th>\n",
       "      <th>compareToPreviousClosePrice</th>\n",
       "      <th>compareToPreviousPrice</th>\n",
       "      <th>fluctuationsRatio</th>\n",
       "      <th>openPrice</th>\n",
       "      <th>highPrice</th>\n",
       "      <th>lowPrice</th>\n",
       "    </tr>\n",
       "  </thead>\n",
       "  <tbody>\n",
       "    <tr>\n",
       "      <th>0</th>\n",
       "      <td>2022-02-21</td>\n",
       "      <td>2,730.63</td>\n",
       "      <td>-13.89</td>\n",
       "      <td>{'code': '5', 'text': '하락', 'name': 'FALLING'}</td>\n",
       "      <td>-0.51</td>\n",
       "      <td>2,706.65</td>\n",
       "      <td>2,739.95</td>\n",
       "      <td>2,694.90</td>\n",
       "    </tr>\n",
       "    <tr>\n",
       "      <th>1</th>\n",
       "      <td>2022-02-18</td>\n",
       "      <td>2,744.52</td>\n",
       "      <td>0.43</td>\n",
       "      <td>{'code': '2', 'text': '상승', 'name': 'RISING'}</td>\n",
       "      <td>0.02</td>\n",
       "      <td>2,714.52</td>\n",
       "      <td>2,747.08</td>\n",
       "      <td>2,711.88</td>\n",
       "    </tr>\n",
       "    <tr>\n",
       "      <th>2</th>\n",
       "      <td>2022-02-17</td>\n",
       "      <td>2,744.09</td>\n",
       "      <td>14.41</td>\n",
       "      <td>{'code': '2', 'text': '상승', 'name': 'RISING'}</td>\n",
       "      <td>0.53</td>\n",
       "      <td>2,735.11</td>\n",
       "      <td>2,770.66</td>\n",
       "      <td>2,711.99</td>\n",
       "    </tr>\n",
       "    <tr>\n",
       "      <th>3</th>\n",
       "      <td>2022-02-16</td>\n",
       "      <td>2,729.68</td>\n",
       "      <td>53.14</td>\n",
       "      <td>{'code': '2', 'text': '상승', 'name': 'RISING'}</td>\n",
       "      <td>1.99</td>\n",
       "      <td>2,719.61</td>\n",
       "      <td>2,730.43</td>\n",
       "      <td>2,711.34</td>\n",
       "    </tr>\n",
       "    <tr>\n",
       "      <th>4</th>\n",
       "      <td>2022-02-15</td>\n",
       "      <td>2,676.54</td>\n",
       "      <td>-27.94</td>\n",
       "      <td>{'code': '5', 'text': '하락', 'name': 'FALLING'}</td>\n",
       "      <td>-1.03</td>\n",
       "      <td>2,712.45</td>\n",
       "      <td>2,716.45</td>\n",
       "      <td>2,665.47</td>\n",
       "    </tr>\n",
       "  </tbody>\n",
       "</table>\n",
       "</div>"
      ],
      "text/plain": [
       "  localTradedAt closePrice compareToPreviousClosePrice  \\\n",
       "0    2022-02-21   2,730.63                      -13.89   \n",
       "1    2022-02-18   2,744.52                        0.43   \n",
       "2    2022-02-17   2,744.09                       14.41   \n",
       "3    2022-02-16   2,729.68                       53.14   \n",
       "4    2022-02-15   2,676.54                      -27.94   \n",
       "\n",
       "                           compareToPreviousPrice fluctuationsRatio openPrice  \\\n",
       "0  {'code': '5', 'text': '하락', 'name': 'FALLING'}             -0.51  2,706.65   \n",
       "1   {'code': '2', 'text': '상승', 'name': 'RISING'}              0.02  2,714.52   \n",
       "2   {'code': '2', 'text': '상승', 'name': 'RISING'}              0.53  2,735.11   \n",
       "3   {'code': '2', 'text': '상승', 'name': 'RISING'}              1.99  2,719.61   \n",
       "4  {'code': '5', 'text': '하락', 'name': 'FALLING'}             -1.03  2,712.45   \n",
       "\n",
       "  highPrice  lowPrice  \n",
       "0  2,739.95  2,694.90  \n",
       "1  2,747.08  2,711.88  \n",
       "2  2,770.66  2,711.99  \n",
       "3  2,730.43  2,711.34  \n",
       "4  2,716.45  2,665.47  "
      ]
     },
     "execution_count": 77,
     "metadata": {},
     "output_type": "execute_result"
    }
   ],
   "source": [
    "kospi_df = pd.DataFrame(datas)\n",
    "kospi_df.head()"
   ]
  },
  {
   "cell_type": "code",
   "execution_count": 78,
   "id": "1dcc46dd",
   "metadata": {},
   "outputs": [
    {
     "data": {
      "text/html": [
       "<div>\n",
       "<style scoped>\n",
       "    .dataframe tbody tr th:only-of-type {\n",
       "        vertical-align: middle;\n",
       "    }\n",
       "\n",
       "    .dataframe tbody tr th {\n",
       "        vertical-align: top;\n",
       "    }\n",
       "\n",
       "    .dataframe thead th {\n",
       "        text-align: right;\n",
       "    }\n",
       "</style>\n",
       "<table border=\"1\" class=\"dataframe\">\n",
       "  <thead>\n",
       "    <tr style=\"text-align: right;\">\n",
       "      <th></th>\n",
       "      <th>localTradedAt</th>\n",
       "      <th>closePrice</th>\n",
       "    </tr>\n",
       "  </thead>\n",
       "  <tbody>\n",
       "    <tr>\n",
       "      <th>0</th>\n",
       "      <td>2022-02-21</td>\n",
       "      <td>2,730.63</td>\n",
       "    </tr>\n",
       "    <tr>\n",
       "      <th>1</th>\n",
       "      <td>2022-02-18</td>\n",
       "      <td>2,744.52</td>\n",
       "    </tr>\n",
       "    <tr>\n",
       "      <th>2</th>\n",
       "      <td>2022-02-17</td>\n",
       "      <td>2,744.09</td>\n",
       "    </tr>\n",
       "    <tr>\n",
       "      <th>3</th>\n",
       "      <td>2022-02-16</td>\n",
       "      <td>2,729.68</td>\n",
       "    </tr>\n",
       "    <tr>\n",
       "      <th>4</th>\n",
       "      <td>2022-02-15</td>\n",
       "      <td>2,676.54</td>\n",
       "    </tr>\n",
       "  </tbody>\n",
       "</table>\n",
       "</div>"
      ],
      "text/plain": [
       "  localTradedAt closePrice\n",
       "0    2022-02-21   2,730.63\n",
       "1    2022-02-18   2,744.52\n",
       "2    2022-02-17   2,744.09\n",
       "3    2022-02-16   2,729.68\n",
       "4    2022-02-15   2,676.54"
      ]
     },
     "execution_count": 78,
     "metadata": {},
     "output_type": "execute_result"
    }
   ],
   "source": [
    "colums=[\"localTradedAt\",\"closePrice\"]\n",
    "kospi_df = pd.DataFrame(datas)[colums]\n",
    "kospi_df.head()"
   ]
  },
  {
   "cell_type": "code",
   "execution_count": 79,
   "id": "dd9b6162",
   "metadata": {},
   "outputs": [
    {
     "data": {
      "text/plain": [
       "20"
      ]
     },
     "execution_count": 79,
     "metadata": {},
     "output_type": "execute_result"
    }
   ],
   "source": [
    "len(kospi_df)"
   ]
  },
  {
   "cell_type": "code",
   "execution_count": 80,
   "id": "0cec22ca",
   "metadata": {},
   "outputs": [],
   "source": [
    "# 4. 함수로 만들기"
   ]
  },
  {
   "cell_type": "code",
   "execution_count": 81,
   "id": "c93df5d7",
   "metadata": {},
   "outputs": [],
   "source": [
    "def stock_price(code=\"KOSPI\",page_size=20,page=1):\n",
    "    \"\"\"\n",
    "    params: code(KOSPI or KOSDAQ)\n",
    "    \"\"\"\n",
    "    url = f\"https://m.stock.naver.com/api/index/{code}/price?pageSize={page_size}&page={page}\"\n",
    "    response = requests.get(url)\n",
    "    datas=response.json()\n",
    "    return pd.DataFrame(datas)[[\"localTradedAt\",\"closePrice\"]]\n"
   ]
  },
  {
   "cell_type": "code",
   "execution_count": 89,
   "id": "352c03f7",
   "metadata": {},
   "outputs": [
    {
     "data": {
      "text/html": [
       "<div>\n",
       "<style scoped>\n",
       "    .dataframe tbody tr th:only-of-type {\n",
       "        vertical-align: middle;\n",
       "    }\n",
       "\n",
       "    .dataframe tbody tr th {\n",
       "        vertical-align: top;\n",
       "    }\n",
       "\n",
       "    .dataframe thead th {\n",
       "        text-align: right;\n",
       "    }\n",
       "</style>\n",
       "<table border=\"1\" class=\"dataframe\">\n",
       "  <thead>\n",
       "    <tr style=\"text-align: right;\">\n",
       "      <th></th>\n",
       "      <th>localTradedAt</th>\n",
       "      <th>closePrice</th>\n",
       "    </tr>\n",
       "  </thead>\n",
       "  <tbody>\n",
       "    <tr>\n",
       "      <th>0</th>\n",
       "      <td>2022-02-21</td>\n",
       "      <td>877.44</td>\n",
       "    </tr>\n",
       "    <tr>\n",
       "      <th>1</th>\n",
       "      <td>2022-02-18</td>\n",
       "      <td>881.71</td>\n",
       "    </tr>\n",
       "  </tbody>\n",
       "</table>\n",
       "</div>"
      ],
      "text/plain": [
       "  localTradedAt closePrice\n",
       "0    2022-02-21     877.44\n",
       "1    2022-02-18     881.71"
      ]
     },
     "execution_count": 89,
     "metadata": {},
     "output_type": "execute_result"
    }
   ],
   "source": [
    "df = stock_price(\"KOSDAQ\")\n",
    "df.head(2)"
   ]
  },
  {
   "cell_type": "code",
   "execution_count": 83,
   "id": "c9c17a2f",
   "metadata": {},
   "outputs": [],
   "source": [
    "# 5. 실습 : 원달러 환율 데이터 수집"
   ]
  },
  {
   "cell_type": "code",
   "execution_count": 90,
   "id": "49135d39",
   "metadata": {},
   "outputs": [],
   "source": [
    "def exchange_rate(code=\"FX_USDKRW\", page_size=20, page=1):\n",
    "    url = f\"https://api.stock.naver.com/marketindex/exchange/{code}/prices?page={page}&pageSize={page_size}\"\n",
    "    response = requests.get(url)\n",
    "    datas = response.json()\n",
    "    return pd.DataFrame(datas)[[\"localTradedAt\", \"closePrice\"]]"
   ]
  },
  {
   "cell_type": "code",
   "execution_count": 91,
   "id": "200083be",
   "metadata": {},
   "outputs": [
    {
     "data": {
      "text/html": [
       "<div>\n",
       "<style scoped>\n",
       "    .dataframe tbody tr th:only-of-type {\n",
       "        vertical-align: middle;\n",
       "    }\n",
       "\n",
       "    .dataframe tbody tr th {\n",
       "        vertical-align: top;\n",
       "    }\n",
       "\n",
       "    .dataframe thead th {\n",
       "        text-align: right;\n",
       "    }\n",
       "</style>\n",
       "<table border=\"1\" class=\"dataframe\">\n",
       "  <thead>\n",
       "    <tr style=\"text-align: right;\">\n",
       "      <th></th>\n",
       "      <th>localTradedAt</th>\n",
       "      <th>closePrice</th>\n",
       "    </tr>\n",
       "  </thead>\n",
       "  <tbody>\n",
       "    <tr>\n",
       "      <th>0</th>\n",
       "      <td>2022-02-21</td>\n",
       "      <td>1,193.90</td>\n",
       "    </tr>\n",
       "    <tr>\n",
       "      <th>1</th>\n",
       "      <td>2022-02-18</td>\n",
       "      <td>1,195.50</td>\n",
       "    </tr>\n",
       "    <tr>\n",
       "      <th>2</th>\n",
       "      <td>2022-02-17</td>\n",
       "      <td>1,197.50</td>\n",
       "    </tr>\n",
       "    <tr>\n",
       "      <th>3</th>\n",
       "      <td>2022-02-16</td>\n",
       "      <td>1,198.00</td>\n",
       "    </tr>\n",
       "    <tr>\n",
       "      <th>4</th>\n",
       "      <td>2022-02-15</td>\n",
       "      <td>1,197.50</td>\n",
       "    </tr>\n",
       "  </tbody>\n",
       "</table>\n",
       "</div>"
      ],
      "text/plain": [
       "  localTradedAt closePrice\n",
       "0    2022-02-21   1,193.90\n",
       "1    2022-02-18   1,195.50\n",
       "2    2022-02-17   1,197.50\n",
       "3    2022-02-16   1,198.00\n",
       "4    2022-02-15   1,197.50"
      ]
     },
     "execution_count": 91,
     "metadata": {},
     "output_type": "execute_result"
    }
   ],
   "source": [
    "usd = exchange_rate()\n",
    "usd.head()"
   ]
  },
  {
   "cell_type": "code",
   "execution_count": 86,
   "id": "41c9569f",
   "metadata": {},
   "outputs": [],
   "source": [
    "# 시각화 및 상관관계 분석"
   ]
  },
  {
   "cell_type": "code",
   "execution_count": 92,
   "id": "85c97f48",
   "metadata": {},
   "outputs": [],
   "source": [
    "%config InlineBackend.figure_formats = {'png', 'retina'}"
   ]
  },
  {
   "cell_type": "code",
   "execution_count": 93,
   "id": "e6277642",
   "metadata": {},
   "outputs": [],
   "source": [
    "import matplotlib.pyplot as plt\n",
    "import seaborn as sns"
   ]
  },
  {
   "cell_type": "code",
   "execution_count": 113,
   "id": "e2afd6f0",
   "metadata": {},
   "outputs": [],
   "source": [
    "# 데이터 수집 : kospi, kosdaq, usd\n",
    "kospi = stock_price()\n",
    "kosdaq = stock_price(\"KOSDAQ\")\n",
    "usd = exchange_rate()"
   ]
  },
  {
   "cell_type": "code",
   "execution_count": 112,
   "id": "df8142eb",
   "metadata": {},
   "outputs": [
    {
     "data": {
      "text/plain": [
       "localTradedAt     object\n",
       "closePrice       float64\n",
       "dtype: object"
      ]
     },
     "execution_count": 112,
     "metadata": {},
     "output_type": "execute_result"
    }
   ],
   "source": [
    "# 데이터 전처리 : str > float\n",
    "kospi.dtypes"
   ]
  },
  {
   "cell_type": "code",
   "execution_count": 114,
   "id": "eefb0757",
   "metadata": {},
   "outputs": [],
   "source": [
    "kospi[\"closePrice\"] = kospi[\"closePrice\"].apply(lambda data: float(data.replace(\",\", \"\")))"
   ]
  },
  {
   "cell_type": "code",
   "execution_count": 115,
   "id": "9052d553",
   "metadata": {},
   "outputs": [],
   "source": [
    "kosdaq[\"closePrice\"] = kosdaq[\"closePrice\"].apply(lambda data: float(data.replace(\",\", \"\")))\n",
    "usd[\"closePrice\"] = usd[\"closePrice\"].apply(lambda data: float(data.replace(\",\", \"\")))"
   ]
  },
  {
   "cell_type": "code",
   "execution_count": 116,
   "id": "4b095a0b",
   "metadata": {},
   "outputs": [
    {
     "data": {
      "text/plain": [
       "localTradedAt     object\n",
       "closePrice       float64\n",
       "dtype: object"
      ]
     },
     "execution_count": 116,
     "metadata": {},
     "output_type": "execute_result"
    }
   ],
   "source": [
    "usd.dtypes"
   ]
  },
  {
   "cell_type": "code",
   "execution_count": 117,
   "id": "75f761df",
   "metadata": {},
   "outputs": [],
   "source": [
    "# lambda : 일회성 함수 : lambda params :return"
   ]
  },
  {
   "cell_type": "code",
   "execution_count": 118,
   "id": "de750eeb",
   "metadata": {},
   "outputs": [],
   "source": [
    "def plus(num1, num2):\n",
    "    return num1 + num2\n",
    "\n",
    "def minus(num1, num2):\n",
    "    return num1 - num2\n",
    "\n",
    "def calc(func, num1, num2):\n",
    "    return func(num1, num2)"
   ]
  },
  {
   "cell_type": "code",
   "execution_count": 119,
   "id": "bffcc1ae",
   "metadata": {},
   "outputs": [
    {
     "data": {
      "text/plain": [
       "3"
      ]
     },
     "execution_count": 119,
     "metadata": {},
     "output_type": "execute_result"
    }
   ],
   "source": [
    "calc(plus,1,2)"
   ]
  },
  {
   "cell_type": "code",
   "execution_count": 120,
   "id": "32c516f2",
   "metadata": {},
   "outputs": [],
   "source": [
    "# apply(func) : 모든 데이터에 func를 적용시킨 것을 출력"
   ]
  },
  {
   "cell_type": "code",
   "execution_count": 130,
   "id": "c608caae",
   "metadata": {},
   "outputs": [
    {
     "data": {
      "text/html": [
       "<div>\n",
       "<style scoped>\n",
       "    .dataframe tbody tr th:only-of-type {\n",
       "        vertical-align: middle;\n",
       "    }\n",
       "\n",
       "    .dataframe tbody tr th {\n",
       "        vertical-align: top;\n",
       "    }\n",
       "\n",
       "    .dataframe thead th {\n",
       "        text-align: right;\n",
       "    }\n",
       "</style>\n",
       "<table border=\"1\" class=\"dataframe\">\n",
       "  <thead>\n",
       "    <tr style=\"text-align: right;\">\n",
       "      <th></th>\n",
       "      <th>date</th>\n",
       "      <th>kospi</th>\n",
       "      <th>kosdaq</th>\n",
       "      <th>usd</th>\n",
       "    </tr>\n",
       "  </thead>\n",
       "  <tbody>\n",
       "    <tr>\n",
       "      <th>0</th>\n",
       "      <td>2022-02-21</td>\n",
       "      <td>2729.04</td>\n",
       "      <td>876.90</td>\n",
       "      <td>1194.1</td>\n",
       "    </tr>\n",
       "    <tr>\n",
       "      <th>1</th>\n",
       "      <td>2022-02-18</td>\n",
       "      <td>2744.52</td>\n",
       "      <td>881.71</td>\n",
       "      <td>1195.5</td>\n",
       "    </tr>\n",
       "    <tr>\n",
       "      <th>2</th>\n",
       "      <td>2022-02-17</td>\n",
       "      <td>2744.09</td>\n",
       "      <td>874.22</td>\n",
       "      <td>1197.5</td>\n",
       "    </tr>\n",
       "    <tr>\n",
       "      <th>3</th>\n",
       "      <td>2022-02-16</td>\n",
       "      <td>2729.68</td>\n",
       "      <td>878.15</td>\n",
       "      <td>1198.0</td>\n",
       "    </tr>\n",
       "    <tr>\n",
       "      <th>4</th>\n",
       "      <td>2022-02-15</td>\n",
       "      <td>2676.54</td>\n",
       "      <td>839.92</td>\n",
       "      <td>1197.5</td>\n",
       "    </tr>\n",
       "  </tbody>\n",
       "</table>\n",
       "</div>"
      ],
      "text/plain": [
       "         date    kospi  kosdaq     usd\n",
       "0  2022-02-21  2729.04  876.90  1194.1\n",
       "1  2022-02-18  2744.52  881.71  1195.5\n",
       "2  2022-02-17  2744.09  874.22  1197.5\n",
       "3  2022-02-16  2729.68  878.15  1198.0\n",
       "4  2022-02-15  2676.54  839.92  1197.5"
      ]
     },
     "execution_count": 130,
     "metadata": {},
     "output_type": "execute_result"
    }
   ],
   "source": [
    "df = kospi.copy()\n",
    "df = df.rename(columns={\"localTradedAt\": \"date\", \"closePrice\": \"kospi\"})\n",
    "df[\"kosdaq\"] = kosdaq[\"closePrice\"]\n",
    "df[\"usd\"] = usd[\"closePrice\"]\n",
    "df.head()"
   ]
  },
  {
   "cell_type": "code",
   "execution_count": 131,
   "id": "042fb840",
   "metadata": {},
   "outputs": [
    {
     "data": {
      "text/plain": [
       "date       object\n",
       "kospi     float64\n",
       "kosdaq    float64\n",
       "usd       float64\n",
       "dtype: object"
      ]
     },
     "execution_count": 131,
     "metadata": {},
     "output_type": "execute_result"
    }
   ],
   "source": [
    "df.dtypes"
   ]
  },
  {
   "cell_type": "code",
   "execution_count": 132,
   "id": "5ea7adf8",
   "metadata": {},
   "outputs": [],
   "source": [
    "# 그래프 그리기"
   ]
  },
  {
   "cell_type": "code",
   "execution_count": 135,
   "id": "0b0d2e6f",
   "metadata": {},
   "outputs": [
    {
     "data": {
      "image/png": "[encoded data removed]",
      "text/plain": [
       "<Figure size 1440x360 with 1 Axes>"
      ]
     },
     "metadata": {
      "image/png": {
       "height": 302,
       "width": 1162
      },
      "needs_background": "light"
     },
     "output_type": "display_data"
    }
   ],
   "source": [
    "plt.figure(figsize=(20, 5))\n",
    "\n",
    "# plt.plot(df[\"date\"], df[\"kospi\"], label=\"kospi\")\n",
    "# plt.plot(df[\"date\"], df[\"kosdaq\"], label=\"kosdaq\")\n",
    "# plt.plot(df[\"date\"], df[\"usd\"], label=\"usd\")\n",
    "\n",
    "for column in df.columns[1:]:\n",
    "    plt.plot(df[\"date\"], df[column], label=column)\n",
    "\n",
    "plt.xticks(df[\"date\"][::2])\n",
    "plt.legend()\n",
    "plt.show()"
   ]
  },
  {
   "cell_type": "code",
   "execution_count": 136,
   "id": "2536a439",
   "metadata": {},
   "outputs": [],
   "source": [
    "# 데이터 스케일링 : min max scale\n",
    "# z= (x - min(x) / (max(x) - min(x)) : 0 <=z <=1"
   ]
  },
  {
   "cell_type": "code",
   "execution_count": 137,
   "id": "715b4aae",
   "metadata": {},
   "outputs": [],
   "source": [
    "# 상관관계 분석\n",
    "# 상관계수 : 0과 가까울수룩 두데이터는 관계가 없다.\n",
    "#1과 가까울수록 두데이터는 강한 양의 상관관계를 갖는다.\n",
    "# -1과 가까울수룩 두 데이터는 강한 음의 상관관계를 갖는다."
   ]
  },
  {
   "cell_type": "code",
   "execution_count": 138,
   "id": "9dbbf747",
   "metadata": {},
   "outputs": [],
   "source": [
    "# kospi - kosdaq : 0.892 : 강한 양의 상관관계\n",
    "# kospi - usd : -0.745 : 강한 음의 상관관계"
   ]
  },
  {
   "cell_type": "code",
   "execution_count": 139,
   "id": "288c072c",
   "metadata": {},
   "outputs": [
    {
     "data": {
      "text/html": [
       "<div>\n",
       "<style scoped>\n",
       "    .dataframe tbody tr th:only-of-type {\n",
       "        vertical-align: middle;\n",
       "    }\n",
       "\n",
       "    .dataframe tbody tr th {\n",
       "        vertical-align: top;\n",
       "    }\n",
       "\n",
       "    .dataframe thead th {\n",
       "        text-align: right;\n",
       "    }\n",
       "</style>\n",
       "<table border=\"1\" class=\"dataframe\">\n",
       "  <thead>\n",
       "    <tr style=\"text-align: right;\">\n",
       "      <th></th>\n",
       "      <th>kospi</th>\n",
       "      <th>kosdaq</th>\n",
       "      <th>usd</th>\n",
       "    </tr>\n",
       "  </thead>\n",
       "  <tbody>\n",
       "    <tr>\n",
       "      <th>kospi</th>\n",
       "      <td>1.000000</td>\n",
       "      <td>0.892899</td>\n",
       "      <td>-0.736544</td>\n",
       "    </tr>\n",
       "    <tr>\n",
       "      <th>kosdaq</th>\n",
       "      <td>0.892899</td>\n",
       "      <td>1.000000</td>\n",
       "      <td>-0.493317</td>\n",
       "    </tr>\n",
       "    <tr>\n",
       "      <th>usd</th>\n",
       "      <td>-0.736544</td>\n",
       "      <td>-0.493317</td>\n",
       "      <td>1.000000</td>\n",
       "    </tr>\n",
       "  </tbody>\n",
       "</table>\n",
       "</div>"
      ],
      "text/plain": [
       "           kospi    kosdaq       usd\n",
       "kospi   1.000000  0.892899 -0.736544\n",
       "kosdaq  0.892899  1.000000 -0.493317\n",
       "usd    -0.736544 -0.493317  1.000000"
      ]
     },
     "execution_count": 139,
     "metadata": {},
     "output_type": "execute_result"
    }
   ],
   "source": [
    "df[df.columns[1:]].corr()"
   ]
  },
  {
   "cell_type": "code",
   "execution_count": null,
   "id": "45b18741",
   "metadata": {},
   "outputs": [],
   "source": []
  }
 ],
 "metadata": {
  "kernelspec": {
   "display_name": "Python 3",
   "language": "python",
   "name": "python3"
  },
  "language_info": {
   "codemirror_mode": {
    "name": "ipython",
    "version": 3
   },
   "file_extension": ".py",
   "mimetype": "text/x-python",
   "name": "python",
   "nbconvert_exporter": "python",
   "pygments_lexer": "ipython3",
   "version": "3.8.8"
  }
 },
 "nbformat": 4,
 "nbformat_minor": 5
}
