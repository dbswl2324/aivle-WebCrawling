{
 "cells": [
  {
   "cell_type": "markdown",
   "id": "86cde384",
   "metadata": {},
   "source": [
    "### 크롤링 정책\n",
    "- robots.txt : 크롤링 정책을 설명한 페이지\n",
    "- 과도한 크롤링으로 서비스에 영향을 주었을 때 법적 문제가 있을 수 있습니다.\n",
    "- api사용 > robots.txt > 서비스에 피해가 가지 않는선에서 수집\n",
    "- 서비스 피해\n",
    "    - 지적재산권\n",
    "    - 서비스 과부화\n",
    "    - 데이터 사용표준"
   ]
  },
  {
   "cell_type": "code",
   "execution_count": 2,
   "id": "80b78d08",
   "metadata": {},
   "outputs": [],
   "source": [
    "import json\n",
    "import requests\n",
    "import pandas as pd"
   ]
  },
  {
   "cell_type": "markdown",
   "id": "05f8ccf8",
   "metadata": {},
   "source": [
    "# 카카오 : 번역 api"
   ]
  },
  {
   "cell_type": "code",
   "execution_count": 3,
   "id": "fe68c5ad",
   "metadata": {},
   "outputs": [],
   "source": [
    "# 1, application 등록 : app_key\n",
    "APP_KEY = \"27725086b145e8282ca51ee0a3539fcf\""
   ]
  },
  {
   "cell_type": "code",
   "execution_count": null,
   "id": "4e6b07bc",
   "metadata": {},
   "outputs": [],
   "source": [
    "# 2. document 확인 : url\n",
    "#post : url, params, headers"
   ]
  },
  {
   "cell_type": "code",
   "execution_count": 5,
   "id": "d12775bd",
   "metadata": {},
   "outputs": [],
   "source": [
    "url = \"https://dapi.kakao.com/v2/translation/translate\"\n",
    "params = {\"query\" : \"파이썬 웹크롤링 수업 입니다.\", \n",
    "          \"src_lang\" :  \"kr\",\n",
    "         \"target_lang\": \"en\"}\n",
    "headers = {\"Authorization\": f\"KakaoAK {APP_KEY}\"}"
   ]
  },
  {
   "cell_type": "code",
   "execution_count": null,
   "id": "81d11098",
   "metadata": {},
   "outputs": [],
   "source": [
    "# 3. request(url,app_key,data) - > response(json(str))"
   ]
  },
  {
   "cell_type": "code",
   "execution_count": 8,
   "id": "4ea8d3b2",
   "metadata": {},
   "outputs": [
    {
     "data": {
      "text/plain": [
       "<Response [200]>"
      ]
     },
     "execution_count": 8,
     "metadata": {},
     "output_type": "execute_result"
    }
   ],
   "source": [
    "response = requests.post(url, params,headers=headers)\n",
    "response"
   ]
  },
  {
   "cell_type": "code",
   "execution_count": 9,
   "id": "831dfb21",
   "metadata": {},
   "outputs": [
    {
     "data": {
      "text/plain": [
       "'{\"translated_text\":[[\"Python Webcrolling class.\"]]}'"
      ]
     },
     "execution_count": 9,
     "metadata": {},
     "output_type": "execute_result"
    }
   ],
   "source": [
    "response.text"
   ]
  },
  {
   "cell_type": "code",
   "execution_count": 10,
   "id": "6b3c8a4c",
   "metadata": {},
   "outputs": [
    {
     "data": {
      "text/plain": [
       "'Python Webcrolling class.'"
      ]
     },
     "execution_count": 10,
     "metadata": {},
     "output_type": "execute_result"
    }
   ],
   "source": []
  },
  {
   "cell_type": "code",
   "execution_count": null,
   "id": "17fe35b5",
   "metadata": {},
   "outputs": [],
   "source": [
    "# 4. json(str) list, dict"
   ]
  },
  {
   "cell_type": "code",
   "execution_count": 11,
   "id": "c69d8d2a",
   "metadata": {},
   "outputs": [
    {
     "data": {
      "text/plain": [
       "'Python Webcrolling class.'"
      ]
     },
     "execution_count": 11,
     "metadata": {},
     "output_type": "execute_result"
    }
   ],
   "source": [
    "en_txt=response.json()[\"translated_text\"][0][0]\n",
    "en_txt"
   ]
  },
  {
   "cell_type": "code",
   "execution_count": null,
   "id": "a6f0230d",
   "metadata": {},
   "outputs": [],
   "source": [
    "# 5. function"
   ]
  },
  {
   "cell_type": "code",
   "execution_count": 14,
   "id": "e334d5d4",
   "metadata": {},
   "outputs": [],
   "source": [
    "def translate(text, src = \"kr\", target=\"en\"):\n",
    "    APP_KEY = \"27725086b145e8282ca51ee0a3539fcf\"\n",
    "    url = \"https://dapi.kakao.com/v2/translation/translate\"\n",
    "    params = {\"query\" : text, \n",
    "          \"src_lang\" :  src,\n",
    "         \"target_lang\": target}\n",
    "    headers = {\"Authorization\": f\"KakaoAK {APP_KEY}\"}\n",
    "    response = requests.post(url, params,headers=headers)\n",
    "    return response.json()[\"translated_text\"][0][0]\n",
    "    "
   ]
  },
  {
   "cell_type": "code",
   "execution_count": 15,
   "id": "b2b2e30d",
   "metadata": {},
   "outputs": [
    {
     "data": {
      "text/plain": [
       "'Python programming is fun.'"
      ]
     },
     "execution_count": 15,
     "metadata": {},
     "output_type": "execute_result"
    }
   ],
   "source": [
    "text=\"파이썬 프로그래밍은 재미있습니다.\"\n",
    "entext =translate(text)\n",
    "entext"
   ]
  },
  {
   "cell_type": "code",
   "execution_count": 16,
   "id": "18d8ce02",
   "metadata": {},
   "outputs": [
    {
     "data": {
      "text/html": [
       "<div>\n",
       "<style scoped>\n",
       "    .dataframe tbody tr th:only-of-type {\n",
       "        vertical-align: middle;\n",
       "    }\n",
       "\n",
       "    .dataframe tbody tr th {\n",
       "        vertical-align: top;\n",
       "    }\n",
       "\n",
       "    .dataframe thead th {\n",
       "        text-align: right;\n",
       "    }\n",
       "</style>\n",
       "<table border=\"1\" class=\"dataframe\">\n",
       "  <thead>\n",
       "    <tr style=\"text-align: right;\">\n",
       "      <th></th>\n",
       "      <th>id</th>\n",
       "      <th>title</th>\n",
       "    </tr>\n",
       "  </thead>\n",
       "  <tbody>\n",
       "    <tr>\n",
       "      <th>0</th>\n",
       "      <td>1</td>\n",
       "      <td>파이썬은 재미있습니다.</td>\n",
       "    </tr>\n",
       "    <tr>\n",
       "      <th>1</th>\n",
       "      <td>2</td>\n",
       "      <td>웹크롤링은 재미있습니다.</td>\n",
       "    </tr>\n",
       "  </tbody>\n",
       "</table>\n",
       "</div>"
      ],
      "text/plain": [
       "   id          title\n",
       "0   1   파이썬은 재미있습니다.\n",
       "1   2  웹크롤링은 재미있습니다."
      ]
     },
     "execution_count": 16,
     "metadata": {},
     "output_type": "execute_result"
    }
   ],
   "source": [
    "df = pd.DataFrame(\n",
    "    [{\"id\":1,\"title\" : \"파이썬은 재미있습니다.\"},\n",
    "    {\"id\":2, \"title\" : \"웹크롤링은 재미있습니다.\"}]\n",
    ")\n",
    "df"
   ]
  },
  {
   "cell_type": "code",
   "execution_count": 18,
   "id": "fd45b689",
   "metadata": {},
   "outputs": [
    {
     "data": {
      "text/html": [
       "<div>\n",
       "<style scoped>\n",
       "    .dataframe tbody tr th:only-of-type {\n",
       "        vertical-align: middle;\n",
       "    }\n",
       "\n",
       "    .dataframe tbody tr th {\n",
       "        vertical-align: top;\n",
       "    }\n",
       "\n",
       "    .dataframe thead th {\n",
       "        text-align: right;\n",
       "    }\n",
       "</style>\n",
       "<table border=\"1\" class=\"dataframe\">\n",
       "  <thead>\n",
       "    <tr style=\"text-align: right;\">\n",
       "      <th></th>\n",
       "      <th>id</th>\n",
       "      <th>title</th>\n",
       "      <th>en_title</th>\n",
       "    </tr>\n",
       "  </thead>\n",
       "  <tbody>\n",
       "    <tr>\n",
       "      <th>0</th>\n",
       "      <td>1</td>\n",
       "      <td>파이썬은 재미있습니다.</td>\n",
       "      <td>Python is fun.</td>\n",
       "    </tr>\n",
       "    <tr>\n",
       "      <th>1</th>\n",
       "      <td>2</td>\n",
       "      <td>웹크롤링은 재미있습니다.</td>\n",
       "      <td>Web crawling is fun.</td>\n",
       "    </tr>\n",
       "  </tbody>\n",
       "</table>\n",
       "</div>"
      ],
      "text/plain": [
       "   id          title              en_title\n",
       "0   1   파이썬은 재미있습니다.        Python is fun.\n",
       "1   2  웹크롤링은 재미있습니다.  Web crawling is fun."
      ]
     },
     "execution_count": 18,
     "metadata": {},
     "output_type": "execute_result"
    }
   ],
   "source": [
    "df[\"en_title\"] = df[\"title\"].apply(translate)\n",
    "df"
   ]
  },
  {
   "cell_type": "code",
   "execution_count": null,
   "id": "b8c3a9c7",
   "metadata": {},
   "outputs": [],
   "source": []
  }
 ],
 "metadata": {
  "kernelspec": {
   "display_name": "Python 3",
   "language": "python",
   "name": "python3"
  },
  "language_info": {
   "codemirror_mode": {
    "name": "ipython",
    "version": 3
   },
   "file_extension": ".py",
   "mimetype": "text/x-python",
   "name": "python",
   "nbconvert_exporter": "python",
   "pygments_lexer": "ipython3",
   "version": "3.8.8"
  }
 },
 "nbformat": 4,
 "nbformat_minor": 5
}
